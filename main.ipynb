{
 "cells": [
  {
   "cell_type": "code",
   "execution_count": 4,
   "id": "529589de",
   "metadata": {},
   "outputs": [
    {
     "name": "stdout",
     "output_type": "stream",
     "text": [
      "[\"Let's Talk Money\", \"You've Worked Hard for It, Now Make It Work for You\", ['Monika Halan'], 'Harper Collins']\n",
      "['Zero to One', 'Notes on Start Ups, or How to Build the Future', ['Blake Masters', 'Peter Thiel'], 'Random House']\n"
     ]
    }
   ],
   "source": [
    "import cv2\n",
    "import requests\n",
    "import os\n",
    "import pandas as pd\n",
    "import json\n",
    "import csv\n",
    "from jsonpath_ng import parse\n",
    "from pyzbar import pyzbar\n",
    "\n",
    "\n",
    "def read_barcodes(frame):\n",
    "    barcodes = pyzbar.decode(frame)\n",
    "    for barcode in barcodes:\n",
    "        barcode_info = barcode.data.decode('utf-8')\n",
    "        isbn.add(barcode_info)\n",
    "        left, top, width, height = barcode.rect\n",
    "        cv2.rectangle(frame, (left, top), (left + width, top + height), (0, 255, 0), 2)\n",
    "        font = cv2.FONT_HERSHEY_DUPLEX\n",
    "        cv2.putText(frame, barcode_info, (left + 6, top - 6), font, 2, (255, 255, 255), 1)\n",
    "    return frame\n",
    "\n",
    "\n",
    "def video_cap():\n",
    "    global isbn\n",
    "    isbn = set()\n",
    "    camera = cv2.VideoCapture(0)\n",
    "    ret, frame = camera.read()\n",
    "    while ret:\n",
    "        ret, frame = camera.read()\n",
    "        frame = read_barcodes(frame)\n",
    "        img = cv2.resize(frame, (0, 0), fx=0.3, fy=0.3)\n",
    "        cv2.imshow('Frame', img)\n",
    "        if cv2.waitKey(1) & 0xFF == ord('q'):\n",
    "            break\n",
    "    camera.release()\n",
    "    cv2.destroyAllWindows()\n",
    "    \n",
    "    \n",
    "def csv_file():\n",
    "    if os.path.isfile('data.csv'):\n",
    "        pass\n",
    "    else:\n",
    "        headers = ['title', 'subtitle', 'author', 'publisher']\n",
    "        df = pd.DataFrame(headers).T\n",
    "        df.to_csv('data.csv', index=False, mode='a', header=False)\n",
    "    \n",
    "def get_info():\n",
    "    global barcodedata\n",
    "    headers = ['title', 'subtitle', 'author', 'publisher']\n",
    "    barcodedata = ['', '', '', '']\n",
    "    for isbns in isbn:\n",
    "        url = f'https://www.googleapis.com/books/v1/volumes?q={isbns}'\n",
    "        response = requests.request(\"GET\", url)\n",
    "        json_data = json.loads(response.text)\n",
    "        title = parse('items[0].volumeInfo.title')\n",
    "        subtitle = parse('items[0].volumeInfo.subtitle')\n",
    "        author = parse('items[0].volumeInfo.authors')\n",
    "        publisher = parse('items[0].volumeInfo.publisher')\n",
    "        info = [title, subtitle, author, publisher]\n",
    "        for obj in info:\n",
    "            index_val = info.index(obj)\n",
    "            for val in obj.find(json_data):\n",
    "                barcodedata[index_val] = val.value\n",
    "        print(barcodedata)\n",
    "        with open('data.csv', 'a') as f:\n",
    "            write = csv.writer(f)\n",
    "            write.writerows([barcodedata])\n",
    "                \n",
    "\n",
    "def main():\n",
    "    csv_file()\n",
    "    video_cap()\n",
    "    get_info()\n",
    "\n",
    "if __name__ == '__main__':\n",
    "    main()\n",
    "    "
   ]
  },
  {
   "cell_type": "code",
   "execution_count": null,
   "id": "be6ff888",
   "metadata": {},
   "outputs": [],
   "source": []
  }
 ],
 "metadata": {
  "kernelspec": {
   "display_name": "Python 3 (ipykernel)",
   "language": "python",
   "name": "python3"
  },
  "language_info": {
   "codemirror_mode": {
    "name": "ipython",
    "version": 3
   },
   "file_extension": ".py",
   "mimetype": "text/x-python",
   "name": "python",
   "nbconvert_exporter": "python",
   "pygments_lexer": "ipython3",
   "version": "3.8.5"
  }
 },
 "nbformat": 4,
 "nbformat_minor": 5
}
